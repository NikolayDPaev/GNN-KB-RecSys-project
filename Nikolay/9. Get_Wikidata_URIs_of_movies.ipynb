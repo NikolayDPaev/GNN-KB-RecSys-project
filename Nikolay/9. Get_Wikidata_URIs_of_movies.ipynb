{
 "cells": [
  {
   "cell_type": "code",
   "execution_count": 1,
   "metadata": {},
   "outputs": [],
   "source": [
    "import pandas as pd\n",
    "import requests\n",
    "\n",
    "from typing import Optional"
   ]
  },
  {
   "cell_type": "code",
   "execution_count": 2,
   "metadata": {},
   "outputs": [],
   "source": [
    "links_path = 'dataset/ml-latest-small/links.csv'\n",
    "dtype = {\"movieId\": str, \"imdbId\": str, \"tmdbId\": str}\n",
    "links_df = pd.read_csv(links_path, dtype=dtype)"
   ]
  },
  {
   "cell_type": "markdown",
   "metadata": {},
   "source": [
    "### Getting the wikidata uri for every movie in the dataset"
   ]
  },
  {
   "cell_type": "code",
   "execution_count": 3,
   "metadata": {},
   "outputs": [],
   "source": [
    "def get_uri(imdb_id: str) -> Optional[str]:\n",
    "    url = 'https://query.wikidata.org/sparql'\n",
    "    query = f'''\n",
    "    select distinct ?movie where {{\n",
    "    ?movie wdt:P345 ?imdb_id;\n",
    "            wdt:P136 ?genre.\n",
    "    FILTER (?imdb_id = \"tt{imdb_id}\")\n",
    "    }}\n",
    "    '''\n",
    "    r = requests.get(url, params = {'format': 'json', 'query': query})\n",
    "    data = r.json()\n",
    "    results = data['results']['bindings']\n",
    "    return results[0]['movie']['value'] if len(results) > 0 else None"
   ]
  },
  {
   "cell_type": "code",
   "execution_count": null,
   "metadata": {},
   "outputs": [],
   "source": [
    "links_df['wikidataURI'] = links_df.apply(lambda x: get_uri(x['imdbId']), axis=1) # type: ignore"
   ]
  },
  {
   "cell_type": "markdown",
   "metadata": {},
   "source": [
    "Very slow. Better get all movies that have imdb_id from wikidata and then take the ones that are in the dataset."
   ]
  },
  {
   "cell_type": "code",
   "execution_count": 4,
   "metadata": {},
   "outputs": [],
   "source": [
    "imdb_movie_dict: dict[str, str] = {}\n",
    "\n",
    "url = 'https://query.wikidata.org/sparql'\n",
    "query = '''\n",
    "SELECT DISTINCT ?imdb_id ?movie WHERE {\n",
    "  ?movie (wdt:P31/(wdt:P279*)) wd:Q11424;\n",
    "    wdt:P345 ?imdb_id.\n",
    "}\n",
    "'''\n",
    "r = requests.get(url, params = {'format': 'json', 'query': query})\n",
    "data = r.json()\n",
    "results = data['results']['bindings']\n",
    "\n",
    "for result in results:\n",
    "    imdb_id = result['imdb_id']['value']\n",
    "\n",
    "    imdb_id = imdb_id[2:] if imdb_id[:2].isalpha() else imdb_id\n",
    "    imdb_movie_dict[imdb_id] = result['movie']['value'][31:] # skip 'http://www.wikidata.org/entity/'"
   ]
  },
  {
   "cell_type": "code",
   "execution_count": 5,
   "metadata": {},
   "outputs": [],
   "source": [
    "links_df['wikidataURI'] = links_df.apply(lambda x: imdb_movie_dict.get(x['imdbId'], None), axis=1) # type: ignore"
   ]
  },
  {
   "cell_type": "code",
   "execution_count": 8,
   "metadata": {},
   "outputs": [],
   "source": [
    "links_df.head(100)\n",
    "links_df.to_csv('dataset/ml-latest-small/links_with_wikidata_uri.csv')"
   ]
  },
  {
   "cell_type": "markdown",
   "metadata": {},
   "source": [
    "Get different attributes of the movie"
   ]
  },
  {
   "cell_type": "markdown",
   "metadata": {},
   "source": []
  }
 ],
 "metadata": {
  "kernelspec": {
   "display_name": "env",
   "language": "python",
   "name": "python3"
  },
  "language_info": {
   "codemirror_mode": {
    "name": "ipython",
    "version": 3
   },
   "file_extension": ".py",
   "mimetype": "text/x-python",
   "name": "python",
   "nbconvert_exporter": "python",
   "pygments_lexer": "ipython3",
   "version": "3.11.5"
  }
 },
 "nbformat": 4,
 "nbformat_minor": 2
}
