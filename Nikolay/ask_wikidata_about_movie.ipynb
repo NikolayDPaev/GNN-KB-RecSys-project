{
 "cells": [
  {
   "cell_type": "code",
   "execution_count": 1,
   "metadata": {},
   "outputs": [],
   "source": [
    "import pandas as pd\n",
    "import requests\n",
    "\n",
    "from tqdm import tqdm\n",
    "\n",
    "import time\n",
    "from random import random"
   ]
  },
  {
   "cell_type": "code",
   "execution_count": 2,
   "metadata": {},
   "outputs": [],
   "source": [
    "links_path = 'dataset/ml-latest-small/links_with_wikidata_uri.csv'\n",
    "dtype = {\"movieId\": str, \"imdbId\": str, \"tmdbId\": str, \"wikidataURI\": str}\n",
    "links_df = pd.read_csv(links_path, dtype=dtype)\n",
    "\n",
    "movie_path = 'dataset/ml-latest-small/movies.csv'\n",
    "movies_df = pd.read_csv(movie_path, index_col='movieId')"
   ]
  },
  {
   "cell_type": "markdown",
   "metadata": {},
   "source": [
    "Get movie value relations"
   ]
  },
  {
   "cell_type": "code",
   "execution_count": null,
   "metadata": {},
   "outputs": [],
   "source": [
    "def get_value_relations(wikidata_uri: str) -> dict[str, str]:\n",
    "    url = 'https://query.wikidata.org/sparql'\n",
    "    query = f'''\n",
    "    SELECT ?title ?year ?duration ?rottenTomatoesTommatometerScore ?boxOfficeWorldwide WHERE {{\n",
    "    BIND(wd:{wikidata_uri} AS ?movie)\n",
    "    OPTIONAL {{ ?movie wdt:P1476 ?title. }}\n",
    "    OPTIONAL {{\n",
    "        ?movie p:P577 ?publicationDateStatement.\n",
    "        ?publicationDateStatement ps:P577 ?publicationDate;\n",
    "                                pq:P291 ?country.\n",
    "        BIND(YEAR(?publicationDate) as ?year)\n",
    "        }}\n",
    "    OPTIONAL {{ ?movie wdt:P2047 ?duration. }}\n",
    "    OPTIONAL {{\n",
    "        ?movie p:P444 ?reviewScoreStatement.\n",
    "        ?reviewScoreStatement ps:P444 ?rottenTomatoesTommatometerScore;\n",
    "                                pq:P459 wd:Q108403393;\n",
    "                                pq:P447 wd:Q105584.\n",
    "        }}\n",
    "    OPTIONAL {{\n",
    "        ?movie p:P2142 ?boxOfficeStatement.\n",
    "        ?boxOfficeStatement ps:P2142 ?boxOfficeWorldwide;\n",
    "                                pq:P3005 wd:Q13780930.\n",
    "        }}\n",
    "    }}\n",
    "    '''\n",
    "    r = requests.get(url, params = {'format': 'json', 'query': query})\n",
    "    if r.status_code != 200: # if too many requests\n",
    "        time.sleep(5*random())\n",
    "        return get_value_relations(wikidata_uri)\n",
    "    data = r.json()\n",
    "    results = data['results']['bindings'][0]\n",
    "    for key in results.keys():\n",
    "        results[key] = results[key]['value']\n",
    "    return results"
   ]
  },
  {
   "cell_type": "code",
   "execution_count": null,
   "metadata": {},
   "outputs": [],
   "source": [
    "movies_df['year'] = None\n",
    "movies_df['duration'] = None\n",
    "movies_df['boxOfficeWorldwide'] = None\n",
    "movies_df['tommatometerScore'] = None"
   ]
  },
  {
   "cell_type": "markdown",
   "metadata": {},
   "source": [
    "Saving the value relations"
   ]
  },
  {
   "cell_type": "code",
   "execution_count": null,
   "metadata": {},
   "outputs": [],
   "source": [
    "for _, row in tqdm(list(links_df.iterrows())):\n",
    "    time.sleep(random()/3)\n",
    "    value_relations = get_value_relations(row['wikidataURI'])\n",
    "    if 'rottenTomatoesTommatometerScore' in value_relations:\n",
    "        movies_df.loc[int(row['movieId']), 'tommatometerScore'] = value_relations['rottenTomatoesTommatometerScore']\n",
    "    if 'year' in value_relations:\n",
    "        movies_df.loc[int(row['movieId']), 'year'] = value_relations['year']\n",
    "    if 'duration' in value_relations:\n",
    "        movies_df.loc[int(row['movieId']), 'duration'] = value_relations['duration']\n",
    "    if 'boxOfficeWorldwide' in value_relations:\n",
    "        movies_df.loc[int(row['movieId']), 'boxOfficeWorldwide'] = value_relations['boxOfficeWorldwide']"
   ]
  },
  {
   "cell_type": "code",
   "execution_count": null,
   "metadata": {},
   "outputs": [],
   "source": [
    "movies_df.head()"
   ]
  },
  {
   "cell_type": "code",
   "execution_count": null,
   "metadata": {},
   "outputs": [],
   "source": [
    "movies_df.reset_index()\n",
    "movies_df.to_csv('dataset/ml-latest-small/movies_with_wikidata_values.csv')"
   ]
  },
  {
   "cell_type": "markdown",
   "metadata": {},
   "source": [
    "Get cast member relations"
   ]
  },
  {
   "cell_type": "code",
   "execution_count": null,
   "metadata": {},
   "outputs": [],
   "source": [
    "def get_cast_members(wikidata_uri: str) -> list[dict[str, str]]:\n",
    "    url = 'https://query.wikidata.org/sparql'\n",
    "    query = f'''\n",
    "    SELECT ?castMember ?castMemberLabel WHERE {{\n",
    "    BIND(wd:{wikidata_uri} AS ?movie)\n",
    "    OPTIONAL {{ ?movie wdt:P161 ?castMember. }}\n",
    "    OPTIONAL {{ ?movie wdt:P725 ?castMember. }}\n",
    "    SERVICE wikibase:label {{ bd:serviceParam wikibase:language \"en\". }}\n",
    "    }}\n",
    "    '''\n",
    "    r = requests.get(url, params = {'format': 'json', 'query': query})\n",
    "    if r.status_code != 200: # if too many requests\n",
    "        time.sleep(5*random())\n",
    "        return get_cast_members(wikidata_uri)\n",
    "    data = r.json()\n",
    "    results = data['results']['bindings']\n",
    "    return [\n",
    "        {\n",
    "            'wikidata_uri': r['castMember']['value'][31:],\n",
    "            'name': r['castMemberLabel']['value'] if 'castMemberLabel' in r else ''\n",
    "        }\n",
    "        for r in results if 'castMember' in r\n",
    "    ]"
   ]
  },
  {
   "cell_type": "code",
   "execution_count": null,
   "metadata": {},
   "outputs": [],
   "source": [
    "actors = {}\n",
    "stars = []"
   ]
  },
  {
   "cell_type": "code",
   "execution_count": null,
   "metadata": {},
   "outputs": [],
   "source": [
    "for _, row in tqdm(list(links_df.iterrows())[1210:]):\n",
    "    time.sleep(random()/3)\n",
    "    for cast_member in get_cast_members(row['wikidataURI']):\n",
    "        actors[cast_member['wikidata_uri']] = cast_member['name']\n",
    "        stars.append({'movieId': int(row['movieId']), 'castMember': cast_member['wikidata_uri']})\n",
    "\n",
    "actors_df = pd.DataFrame(list(actors.items()), columns=['wikidataURI', 'name'])\n",
    "stars_df = pd.DataFrame(stars)"
   ]
  },
  {
   "cell_type": "code",
   "execution_count": null,
   "metadata": {},
   "outputs": [],
   "source": [
    "actors_df.head()"
   ]
  },
  {
   "cell_type": "code",
   "execution_count": null,
   "metadata": {},
   "outputs": [],
   "source": [
    "stars_df.head()"
   ]
  },
  {
   "cell_type": "code",
   "execution_count": null,
   "metadata": {},
   "outputs": [],
   "source": [
    "actors_df.to_csv('dataset/ml-latest-small/actors.csv')\n",
    "stars_df.to_csv('dataset/ml-latest-small/stars.csv')"
   ]
  },
  {
   "cell_type": "markdown",
   "metadata": {},
   "source": [
    "Get other relations"
   ]
  },
  {
   "cell_type": "code",
   "execution_count": 3,
   "metadata": {},
   "outputs": [],
   "source": [
    "def get_relation(wikidata_uri: str, relation_uri: str, relation_name: str) -> list[dict[str, str]]:\n",
    "    url = 'https://query.wikidata.org/sparql'\n",
    "    query = f'''\n",
    "    SELECT ?{relation_name} ?{relation_name}Label WHERE {{\n",
    "    BIND(wd:{wikidata_uri} AS ?movie)\n",
    "    OPTIONAL {{ ?movie wdt:{relation_uri} ?{relation_name}. }}\n",
    "    SERVICE wikibase:label {{ bd:serviceParam wikibase:language \"en\". }}\n",
    "    }}\n",
    "    '''\n",
    "    r = requests.get(url, params = {'format': 'json', 'query': query})\n",
    "    if r.status_code != 200: # if too many requests\n",
    "        time.sleep(5*random())\n",
    "        return get_relation(wikidata_uri, relation_uri, relation_name)\n",
    "    data = r.json()\n",
    "    results = data['results']['bindings']\n",
    "    return [\n",
    "        {\n",
    "            'wikidata_uri': r[relation_name]['value'][31:],\n",
    "            'name': r[relation_name+'Label']['value'] if relation_name+'Label' in r else ''\n",
    "        }\n",
    "        for r in results if relation_name in r\n",
    "    ]"
   ]
  },
  {
   "cell_type": "code",
   "execution_count": null,
   "metadata": {},
   "outputs": [],
   "source": [
    "relation_uris = {\n",
    "    'country': 'P495',\n",
    "    'language': 'P364',\n",
    "    'color': 'P462',\n",
    "    'director': 'P57',\n",
    "    'producer': 'P162',\n",
    "    'execProducer': 'P1431',\n",
    "    'composer': 'P86',\n",
    "    'company': 'P272',\n",
    "    'screenWriter': 'P58',\n",
    "    'influencedBy': 'P737',\n",
    "    'followedBy': 'P156',\n",
    "    'follows': 'P155',\n",
    "    'genre': 'P136',\n",
    "    'creator': 'P170'\n",
    "}\n",
    "\n",
    "for relation_name, relation_uri in relation_uris.items():\n",
    "    print(get_relation(links_df['wikidataURI'][4332], relation_uri, relation_name))"
   ]
  },
  {
   "cell_type": "markdown",
   "metadata": {},
   "source": [
    "Get directors"
   ]
  },
  {
   "cell_type": "code",
   "execution_count": null,
   "metadata": {},
   "outputs": [],
   "source": [
    "directors = {}\n",
    "directed_by = []\n",
    "\n",
    "for _, row in tqdm(list(links_df.iterrows())):\n",
    "    time.sleep(random()/3)\n",
    "\n",
    "    for director in get_relation(row['wikidataURI'], 'P57', 'director'):\n",
    "        directors[director['wikidata_uri']] = director['name']\n",
    "        directed_by.append({'movieId': int(row['movieId']), 'director': director['wikidata_uri']})\n",
    "\n",
    "directors_df = pd.DataFrame(list(directors.items()), columns=['wikidataURI', 'name'])\n",
    "directed_by_df = pd.DataFrame(directed_by)"
   ]
  },
  {
   "cell_type": "code",
   "execution_count": null,
   "metadata": {},
   "outputs": [],
   "source": [
    "directors_df.to_csv('dataset/ml-latest-small/directors.csv')\n",
    "directed_by_df.to_csv('dataset/ml-latest-small/directed_by.csv')"
   ]
  },
  {
   "cell_type": "markdown",
   "metadata": {},
   "source": [
    "Get company"
   ]
  },
  {
   "cell_type": "code",
   "execution_count": 4,
   "metadata": {},
   "outputs": [],
   "source": [
    "companies = {}\n",
    "produced_by = []"
   ]
  },
  {
   "cell_type": "code",
   "execution_count": 8,
   "metadata": {},
   "outputs": [],
   "source": [
    "for _, row in tqdm(list(links_df.iterrows())[900:]):\n",
    "    time.sleep(random()/3)\n",
    "\n",
    "    for company in get_relation(row['wikidataURI'], 'P272', 'company'):\n",
    "        companies[company['wikidata_uri']] = company['name']\n",
    "        produced_by.append({'movieId': int(row['movieId']), 'company': company['wikidata_uri']})\n",
    "\n",
    "companies_df = pd.DataFrame(list(companies.items()), columns=['wikidataURI', 'name'])\n",
    "produced_by_df = pd.DataFrame(produced_by)"
   ]
  },
  {
   "cell_type": "code",
   "execution_count": 11,
   "metadata": {},
   "outputs": [],
   "source": [
    "companies_df.to_csv('dataset/ml-latest-small/companies.csv')\n",
    "produced_by_df.to_csv('dataset/ml-latest-small/produced_by.csv')"
   ]
  },
  {
   "cell_type": "markdown",
   "metadata": {},
   "source": [
    "Get country"
   ]
  },
  {
   "cell_type": "code",
   "execution_count": 12,
   "metadata": {},
   "outputs": [],
   "source": [
    "countries = {}\n",
    "produced_in = []"
   ]
  },
  {
   "cell_type": "code",
   "execution_count": 13,
   "metadata": {},
   "outputs": [
    {
     "name": "stderr",
     "output_type": "stream",
     "text": [
      "100%|██████████| 9742/9742 [4:14:41<00:00,  1.57s/it]  \n"
     ]
    }
   ],
   "source": [
    "for _, row in tqdm(list(links_df.iterrows())):\n",
    "    time.sleep(random()/3)\n",
    "\n",
    "    for country in get_relation(row['wikidataURI'], 'P495', 'country'):\n",
    "        countries[country['wikidata_uri']] = country['name']\n",
    "        produced_in.append({'movieId': int(row['movieId']), 'country': country['wikidata_uri']})\n",
    "\n",
    "countries_df = pd.DataFrame(list(countries.items()), columns=['wikidataURI', 'name'])\n",
    "produced_in_df = pd.DataFrame(produced_in)"
   ]
  },
  {
   "cell_type": "code",
   "execution_count": 14,
   "metadata": {},
   "outputs": [],
   "source": [
    "countries_df.to_csv('dataset/ml-latest-small/countries.csv')\n",
    "produced_in_df.to_csv('dataset/ml-latest-small/produced_in.csv')"
   ]
  }
 ],
 "metadata": {
  "kernelspec": {
   "display_name": "env",
   "language": "python",
   "name": "python3"
  },
  "language_info": {
   "codemirror_mode": {
    "name": "ipython",
    "version": 3
   },
   "file_extension": ".py",
   "mimetype": "text/x-python",
   "name": "python",
   "nbconvert_exporter": "python",
   "pygments_lexer": "ipython3",
   "version": "3.11.5"
  }
 },
 "nbformat": 4,
 "nbformat_minor": 2
}
