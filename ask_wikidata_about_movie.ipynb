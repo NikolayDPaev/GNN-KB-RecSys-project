{
 "cells": [
  {
   "cell_type": "code",
   "execution_count": 1,
   "metadata": {},
   "outputs": [],
   "source": [
    "import pandas as pd\n",
    "import requests\n",
    "\n",
    "from tqdm import tqdm\n",
    "\n",
    "import time\n",
    "from random import random"
   ]
  },
  {
   "cell_type": "code",
   "execution_count": 2,
   "metadata": {},
   "outputs": [],
   "source": [
    "links_path = 'dataset/ml-latest-small/links_with_wikidata_uri.csv'\n",
    "dtype = {\"movieId\": str, \"imdbId\": str, \"tmdbId\": str, \"wikidataURI\": str}\n",
    "links_df = pd.read_csv(links_path, dtype=dtype)\n",
    "\n",
    "movie_path = 'dataset/ml-latest-small/movies.csv'\n",
    "movies_df = pd.read_csv(movie_path, index_col='movieId')"
   ]
  },
  {
   "cell_type": "markdown",
   "metadata": {},
   "source": [
    "Get movie value relations"
   ]
  },
  {
   "cell_type": "code",
   "execution_count": 3,
   "metadata": {},
   "outputs": [],
   "source": [
    "def get_value_relations(wikidata_uri: str) -> dict[str, str]:\n",
    "    url = 'https://query.wikidata.org/sparql'\n",
    "    query = f'''\n",
    "    SELECT ?title ?year ?duration ?rottenTomatoesTommatometerScore ?boxOfficeWorldwide WHERE {{\n",
    "    BIND(wd:{wikidata_uri} AS ?movie)\n",
    "    OPTIONAL {{ ?movie wdt:P1476 ?title. }}\n",
    "    OPTIONAL {{\n",
    "        ?movie p:P577 ?publicationDateStatement.\n",
    "        ?publicationDateStatement ps:P577 ?publicationDate;\n",
    "                                pq:P291 ?country.\n",
    "        BIND(YEAR(?publicationDate) as ?year)\n",
    "        }}\n",
    "    OPTIONAL {{ ?movie wdt:P2047 ?duration. }}\n",
    "    OPTIONAL {{\n",
    "        ?movie p:P444 ?reviewScoreStatement.\n",
    "        ?reviewScoreStatement ps:P444 ?rottenTomatoesTommatometerScore;\n",
    "                                pq:P459 wd:Q108403393;\n",
    "                                pq:P447 wd:Q105584.\n",
    "        }}\n",
    "    OPTIONAL {{\n",
    "        ?movie p:P2142 ?boxOfficeStatement.\n",
    "        ?boxOfficeStatement ps:P2142 ?boxOfficeWorldwide;\n",
    "                                pq:P3005 wd:Q13780930.\n",
    "        }}\n",
    "    }}\n",
    "    '''\n",
    "    r = requests.get(url, params = {'format': 'json', 'query': query})\n",
    "    if r.status_code != 200: # if too many requests\n",
    "        time.sleep(5*random())\n",
    "        return get_value_relations(wikidata_uri)\n",
    "    data = r.json()\n",
    "    results = data['results']['bindings'][0]\n",
    "    for key in results.keys():\n",
    "        results[key] = results[key]['value']\n",
    "    return results"
   ]
  },
  {
   "cell_type": "code",
   "execution_count": 4,
   "metadata": {},
   "outputs": [],
   "source": [
    "movies_df['year'] = None\n",
    "movies_df['duration'] = None\n",
    "movies_df['boxOfficeWorldwide'] = None\n",
    "movies_df['tommatometerScore'] = None"
   ]
  },
  {
   "cell_type": "markdown",
   "metadata": {},
   "source": [
    "Saving the value relations"
   ]
  },
  {
   "cell_type": "code",
   "execution_count": 5,
   "metadata": {},
   "outputs": [
    {
     "name": "stderr",
     "output_type": "stream",
     "text": [
      "100%|██████████| 9742/9742 [4:31:50<00:00,  1.67s/it]   \n"
     ]
    }
   ],
   "source": [
    "for _, row in tqdm(list(links_df.iterrows())):\n",
    "    time.sleep(random()/3)\n",
    "    value_relations = get_value_relations(row['wikidataURI'])\n",
    "    if 'rottenTomatoesTommatometerScore' in value_relations:\n",
    "        movies_df.loc[int(row['movieId']), 'tommatometerScore'] = value_relations['rottenTomatoesTommatometerScore']\n",
    "    if 'year' in value_relations:\n",
    "        movies_df.loc[int(row['movieId']), 'year'] = value_relations['year']\n",
    "    if 'duration' in value_relations:\n",
    "        movies_df.loc[int(row['movieId']), 'duration'] = value_relations['duration']\n",
    "    if 'boxOfficeWorldwide' in value_relations:\n",
    "        movies_df.loc[int(row['movieId']), 'boxOfficeWorldwide'] = value_relations['boxOfficeWorldwide']"
   ]
  },
  {
   "cell_type": "code",
   "execution_count": 6,
   "metadata": {},
   "outputs": [
    {
     "data": {
      "text/html": [
       "<div>\n",
       "<style scoped>\n",
       "    .dataframe tbody tr th:only-of-type {\n",
       "        vertical-align: middle;\n",
       "    }\n",
       "\n",
       "    .dataframe tbody tr th {\n",
       "        vertical-align: top;\n",
       "    }\n",
       "\n",
       "    .dataframe thead th {\n",
       "        text-align: right;\n",
       "    }\n",
       "</style>\n",
       "<table border=\"1\" class=\"dataframe\">\n",
       "  <thead>\n",
       "    <tr style=\"text-align: right;\">\n",
       "      <th></th>\n",
       "      <th>title</th>\n",
       "      <th>genres</th>\n",
       "      <th>year</th>\n",
       "      <th>duration</th>\n",
       "      <th>boxOfficeWorldwide</th>\n",
       "      <th>tommatometerScore</th>\n",
       "    </tr>\n",
       "    <tr>\n",
       "      <th>movieId</th>\n",
       "      <th></th>\n",
       "      <th></th>\n",
       "      <th></th>\n",
       "      <th></th>\n",
       "      <th></th>\n",
       "      <th></th>\n",
       "    </tr>\n",
       "  </thead>\n",
       "  <tbody>\n",
       "    <tr>\n",
       "      <th>1</th>\n",
       "      <td>Toy Story (1995)</td>\n",
       "      <td>Adventure|Animation|Children|Comedy|Fantasy</td>\n",
       "      <td>1995</td>\n",
       "      <td>81</td>\n",
       "      <td>394436586</td>\n",
       "      <td>100%</td>\n",
       "    </tr>\n",
       "    <tr>\n",
       "      <th>2</th>\n",
       "      <td>Jumanji (1995)</td>\n",
       "      <td>Adventure|Children|Fantasy</td>\n",
       "      <td>1996</td>\n",
       "      <td>101</td>\n",
       "      <td>262800000</td>\n",
       "      <td>52%</td>\n",
       "    </tr>\n",
       "    <tr>\n",
       "      <th>3</th>\n",
       "      <td>Grumpier Old Men (1995)</td>\n",
       "      <td>Comedy|Romance</td>\n",
       "      <td>1996</td>\n",
       "      <td>97</td>\n",
       "      <td>None</td>\n",
       "      <td>17%</td>\n",
       "    </tr>\n",
       "    <tr>\n",
       "      <th>4</th>\n",
       "      <td>Waiting to Exhale (1995)</td>\n",
       "      <td>Comedy|Drama|Romance</td>\n",
       "      <td>1996</td>\n",
       "      <td>127</td>\n",
       "      <td>None</td>\n",
       "      <td>60%</td>\n",
       "    </tr>\n",
       "    <tr>\n",
       "      <th>5</th>\n",
       "      <td>Father of the Bride Part II (1995)</td>\n",
       "      <td>Comedy</td>\n",
       "      <td>1995</td>\n",
       "      <td>101</td>\n",
       "      <td>None</td>\n",
       "      <td>50%</td>\n",
       "    </tr>\n",
       "  </tbody>\n",
       "</table>\n",
       "</div>"
      ],
      "text/plain": [
       "                                      title  \\\n",
       "movieId                                       \n",
       "1                          Toy Story (1995)   \n",
       "2                            Jumanji (1995)   \n",
       "3                   Grumpier Old Men (1995)   \n",
       "4                  Waiting to Exhale (1995)   \n",
       "5        Father of the Bride Part II (1995)   \n",
       "\n",
       "                                              genres  year duration  \\\n",
       "movieId                                                               \n",
       "1        Adventure|Animation|Children|Comedy|Fantasy  1995       81   \n",
       "2                         Adventure|Children|Fantasy  1996      101   \n",
       "3                                     Comedy|Romance  1996       97   \n",
       "4                               Comedy|Drama|Romance  1996      127   \n",
       "5                                             Comedy  1995      101   \n",
       "\n",
       "        boxOfficeWorldwide tommatometerScore  \n",
       "movieId                                       \n",
       "1                394436586              100%  \n",
       "2                262800000               52%  \n",
       "3                     None               17%  \n",
       "4                     None               60%  \n",
       "5                     None               50%  "
      ]
     },
     "execution_count": 6,
     "metadata": {},
     "output_type": "execute_result"
    }
   ],
   "source": [
    "movies_df.head()"
   ]
  },
  {
   "cell_type": "code",
   "execution_count": 7,
   "metadata": {},
   "outputs": [],
   "source": [
    "movies_df.reset_index()\n",
    "movies_df.to_csv('dataset/ml-latest-small/movies_with_wikidata_values.csv')"
   ]
  },
  {
   "cell_type": "markdown",
   "metadata": {},
   "source": [
    "Get cast member relations"
   ]
  },
  {
   "cell_type": "code",
   "execution_count": 3,
   "metadata": {},
   "outputs": [],
   "source": [
    "def get_cast_members(wikidata_uri: str) -> list[dict[str, str]]:\n",
    "    url = 'https://query.wikidata.org/sparql'\n",
    "    query = f'''\n",
    "    SELECT ?castMember ?castMemberLabel WHERE {{\n",
    "    BIND(wd:{wikidata_uri} AS ?movie)\n",
    "    OPTIONAL {{ ?movie wdt:P161 ?castMember. }}\n",
    "    OPTIONAL {{ ?movie wdt:P725 ?castMember. }}\n",
    "    SERVICE wikibase:label {{ bd:serviceParam wikibase:language \"en\". }}\n",
    "    }}\n",
    "    '''\n",
    "    r = requests.get(url, params = {'format': 'json', 'query': query})\n",
    "    if r.status_code != 200: # if too many requests\n",
    "        time.sleep(5*random())\n",
    "        return get_cast_members(wikidata_uri)\n",
    "    data = r.json()\n",
    "    results = data['results']['bindings']\n",
    "    return [\n",
    "        {\n",
    "            'wikidata_uri': r['castMember']['value'][31:],\n",
    "            'name': r['castMemberLabel']['value'] if 'castMemberLabel' in r else ''\n",
    "        }\n",
    "        for r in results if 'castMember' in r\n",
    "    ]"
   ]
  },
  {
   "cell_type": "code",
   "execution_count": 4,
   "metadata": {},
   "outputs": [],
   "source": [
    "actors = {}\n",
    "stars = []"
   ]
  },
  {
   "cell_type": "code",
   "execution_count": 6,
   "metadata": {},
   "outputs": [
    {
     "name": "stderr",
     "output_type": "stream",
     "text": [
      "100%|██████████| 8532/8532 [3:50:53<00:00,  1.62s/it]  \n"
     ]
    }
   ],
   "source": [
    "for _, row in tqdm(list(links_df.iterrows())[1210:]):\n",
    "    time.sleep(random()/3)\n",
    "    for cast_member in get_cast_members(row['wikidataURI']):\n",
    "        actors[cast_member['wikidata_uri']] = cast_member['name']\n",
    "        stars.append({'movieId': int(row['movieId']), 'castMember': cast_member['wikidata_uri']})\n",
    "\n",
    "actors_df = pd.DataFrame(list(actors.items()), columns=['wikidataURI', 'name'])\n",
    "stars_df = pd.DataFrame(stars)"
   ]
  },
  {
   "cell_type": "code",
   "execution_count": 7,
   "metadata": {},
   "outputs": [
    {
     "data": {
      "text/html": [
       "<div>\n",
       "<style scoped>\n",
       "    .dataframe tbody tr th:only-of-type {\n",
       "        vertical-align: middle;\n",
       "    }\n",
       "\n",
       "    .dataframe tbody tr th {\n",
       "        vertical-align: top;\n",
       "    }\n",
       "\n",
       "    .dataframe thead th {\n",
       "        text-align: right;\n",
       "    }\n",
       "</style>\n",
       "<table border=\"1\" class=\"dataframe\">\n",
       "  <thead>\n",
       "    <tr style=\"text-align: right;\">\n",
       "      <th></th>\n",
       "      <th>wikidataURI</th>\n",
       "      <th>name</th>\n",
       "    </tr>\n",
       "  </thead>\n",
       "  <tbody>\n",
       "    <tr>\n",
       "      <th>0</th>\n",
       "      <td>Q2263</td>\n",
       "      <td>Tom Hanks</td>\n",
       "    </tr>\n",
       "    <tr>\n",
       "      <th>1</th>\n",
       "      <td>Q208408</td>\n",
       "      <td>Tim Allen</td>\n",
       "    </tr>\n",
       "    <tr>\n",
       "      <th>2</th>\n",
       "      <td>Q236711</td>\n",
       "      <td>Laurie Metcalf</td>\n",
       "    </tr>\n",
       "    <tr>\n",
       "      <th>3</th>\n",
       "      <td>Q253536</td>\n",
       "      <td>Annie Potts</td>\n",
       "    </tr>\n",
       "    <tr>\n",
       "      <th>4</th>\n",
       "      <td>Q269890</td>\n",
       "      <td>Don Rickles</td>\n",
       "    </tr>\n",
       "  </tbody>\n",
       "</table>\n",
       "</div>"
      ],
      "text/plain": [
       "  wikidataURI            name\n",
       "0       Q2263       Tom Hanks\n",
       "1     Q208408       Tim Allen\n",
       "2     Q236711  Laurie Metcalf\n",
       "3     Q253536     Annie Potts\n",
       "4     Q269890     Don Rickles"
      ]
     },
     "execution_count": 7,
     "metadata": {},
     "output_type": "execute_result"
    }
   ],
   "source": [
    "actors_df.head()"
   ]
  },
  {
   "cell_type": "code",
   "execution_count": 8,
   "metadata": {},
   "outputs": [
    {
     "data": {
      "text/html": [
       "<div>\n",
       "<style scoped>\n",
       "    .dataframe tbody tr th:only-of-type {\n",
       "        vertical-align: middle;\n",
       "    }\n",
       "\n",
       "    .dataframe tbody tr th {\n",
       "        vertical-align: top;\n",
       "    }\n",
       "\n",
       "    .dataframe thead th {\n",
       "        text-align: right;\n",
       "    }\n",
       "</style>\n",
       "<table border=\"1\" class=\"dataframe\">\n",
       "  <thead>\n",
       "    <tr style=\"text-align: right;\">\n",
       "      <th></th>\n",
       "      <th>movieId</th>\n",
       "      <th>cast_member</th>\n",
       "    </tr>\n",
       "  </thead>\n",
       "  <tbody>\n",
       "    <tr>\n",
       "      <th>0</th>\n",
       "      <td>1</td>\n",
       "      <td>Q2263</td>\n",
       "    </tr>\n",
       "    <tr>\n",
       "      <th>1</th>\n",
       "      <td>1</td>\n",
       "      <td>Q208408</td>\n",
       "    </tr>\n",
       "    <tr>\n",
       "      <th>2</th>\n",
       "      <td>1</td>\n",
       "      <td>Q236711</td>\n",
       "    </tr>\n",
       "    <tr>\n",
       "      <th>3</th>\n",
       "      <td>1</td>\n",
       "      <td>Q253536</td>\n",
       "    </tr>\n",
       "    <tr>\n",
       "      <th>4</th>\n",
       "      <td>1</td>\n",
       "      <td>Q269890</td>\n",
       "    </tr>\n",
       "  </tbody>\n",
       "</table>\n",
       "</div>"
      ],
      "text/plain": [
       "   movieId cast_member\n",
       "0        1       Q2263\n",
       "1        1     Q208408\n",
       "2        1     Q236711\n",
       "3        1     Q253536\n",
       "4        1     Q269890"
      ]
     },
     "execution_count": 8,
     "metadata": {},
     "output_type": "execute_result"
    }
   ],
   "source": [
    "stars_df.head()"
   ]
  },
  {
   "cell_type": "code",
   "execution_count": 9,
   "metadata": {},
   "outputs": [],
   "source": [
    "actors_df.to_csv('dataset/ml-latest-small/actors.csv')\n",
    "stars_df.to_csv('dataset/ml-latest-small/stars.csv')"
   ]
  },
  {
   "cell_type": "markdown",
   "metadata": {},
   "source": [
    "Get other relations"
   ]
  },
  {
   "cell_type": "code",
   "execution_count": 3,
   "metadata": {},
   "outputs": [],
   "source": [
    "def get_relation(wikidata_uri: str, relation_uri: str, relation_name: str) -> list[dict[str, str]]:\n",
    "    url = 'https://query.wikidata.org/sparql'\n",
    "    query = f'''\n",
    "    SELECT ?{relation_name} ?{relation_name}Label WHERE {{\n",
    "    BIND(wd:{wikidata_uri} AS ?movie)\n",
    "    OPTIONAL {{ ?movie wdt:{relation_uri} ?{relation_name}. }}\n",
    "    SERVICE wikibase:label {{ bd:serviceParam wikibase:language \"en\". }}\n",
    "    }}\n",
    "    '''\n",
    "    r = requests.get(url, params = {'format': 'json', 'query': query})\n",
    "    if r.status_code != 200: # if too many requests\n",
    "        time.sleep(5*random())\n",
    "        return get_relation(wikidata_uri, relation_uri, relation_name)\n",
    "    data = r.json()\n",
    "    results = data['results']['bindings']\n",
    "    return [\n",
    "        {\n",
    "            'wikidata_uri': r[relation_name]['value'][31:],\n",
    "            'name': r[relation_name+'Label']['value'] if relation_name+'Label' in r else ''\n",
    "        }\n",
    "        for r in results if relation_name in r\n",
    "    ]"
   ]
  },
  {
   "cell_type": "code",
   "execution_count": 75,
   "metadata": {},
   "outputs": [
    {
     "name": "stdout",
     "output_type": "stream",
     "text": [
      "[{'wikidata_uri': 'Q30', 'name': 'United States of America'}]\n",
      "[{'wikidata_uri': 'Q1860', 'name': 'English'}]\n",
      "[{'wikidata_uri': 'Q22006653', 'name': 'color'}]\n",
      "[{'wikidata_uri': 'Q6175864', 'name': 'Jeffrey Blitz'}]\n",
      "[{'wikidata_uri': 'Q6175864', 'name': 'Jeffrey Blitz'}, {'wikidata_uri': 'Q121337711', 'name': 'Sean Welch'}]\n",
      "[]\n",
      "[]\n",
      "[]\n",
      "[{'wikidata_uri': 'Q6175864', 'name': 'Jeffrey Blitz'}]\n",
      "[]\n",
      "[]\n",
      "[]\n",
      "[{'wikidata_uri': 'Q93204', 'name': 'documentary film'}]\n",
      "[]\n"
     ]
    }
   ],
   "source": [
    "relation_uris = {\n",
    "    'country': 'P495',\n",
    "    'language': 'P364',\n",
    "    'color': 'P462',\n",
    "    'director': 'P57',\n",
    "    'producer': 'P162',\n",
    "    'execProducer': 'P1431',\n",
    "    'composer': 'P86',\n",
    "    'company': 'P272',\n",
    "    'screenWriter': 'P58',\n",
    "    'influencedBy': 'P737',\n",
    "    'followedBy': 'P156',\n",
    "    'follows': 'P155',\n",
    "    'genre': 'P136',\n",
    "    'creator': 'P170'\n",
    "}\n",
    "\n",
    "for relation_name, relation_uri in relation_uris.items():\n",
    "    print(get_relation(links_df['wikidataURI'][4332], relation_uri, relation_name))"
   ]
  },
  {
   "cell_type": "markdown",
   "metadata": {},
   "source": [
    "Get directors"
   ]
  },
  {
   "cell_type": "code",
   "execution_count": 11,
   "metadata": {},
   "outputs": [
    {
     "name": "stderr",
     "output_type": "stream",
     "text": [
      "9742it [4:26:09,  1.64s/it]\n"
     ]
    }
   ],
   "source": [
    "directors = {}\n",
    "directed_by = []\n",
    "\n",
    "for _, row in tqdm(list(links_df.iterrows())):\n",
    "    time.sleep(random()/3)\n",
    "\n",
    "    for director in get_relation(row['wikidataURI'], 'P57', 'director'):\n",
    "        directors[director['wikidata_uri']] = director['name']\n",
    "        directed_by.append({'movieId': int(row['movieId']), 'director': director['wikidata_uri']})\n",
    "\n",
    "directors_df = pd.DataFrame(list(directors.items()), columns=['wikidataURI', 'name'])\n",
    "directed_by_df = pd.DataFrame(directed_by)"
   ]
  },
  {
   "cell_type": "code",
   "execution_count": 12,
   "metadata": {},
   "outputs": [],
   "source": [
    "directors_df.to_csv('dataset/ml-latest-small/directors.csv')\n",
    "directed_by_df.to_csv('dataset/ml-latest-small/directed_by.csv')"
   ]
  },
  {
   "cell_type": "markdown",
   "metadata": {},
   "source": [
    "Get company"
   ]
  },
  {
   "cell_type": "code",
   "execution_count": 4,
   "metadata": {},
   "outputs": [],
   "source": [
    "companies = {}\n",
    "produced_by = []"
   ]
  },
  {
   "cell_type": "code",
   "execution_count": 6,
   "metadata": {},
   "outputs": [
    {
     "name": "stderr",
     "output_type": "stream",
     "text": [
      "  0%|          | 0/3182 [00:00<?, ?it/s]"
     ]
    }
   ],
   "source": [
    "for _, row in tqdm(list(links_df.iterrows())[6560:]):\n",
    "    time.sleep(random()/3)\n",
    "\n",
    "    for company in get_relation(row['wikidataURI'], 'P272', 'company'):\n",
    "        companies[company['wikidata_uri']] = company['name']\n",
    "        produced_by.append({'movieId': int(row['movieId']), 'company': company['wikidata_uri']})\n",
    "\n",
    "companies_df = pd.DataFrame(list(directors.items()), columns=['wikidataURI', 'name'])\n",
    "produced_by_df = pd.DataFrame(produced_by)"
   ]
  },
  {
   "cell_type": "code",
   "execution_count": null,
   "metadata": {},
   "outputs": [],
   "source": [
    "companies_df.to_csv('dataset/ml-latest-small/companies.csv')\n",
    "produced_by_df.to_csv('dataset/ml-latest-small/produced_by.csv')"
   ]
  }
 ],
 "metadata": {
  "kernelspec": {
   "display_name": "env",
   "language": "python",
   "name": "python3"
  },
  "language_info": {
   "codemirror_mode": {
    "name": "ipython",
    "version": 3
   },
   "file_extension": ".py",
   "mimetype": "text/x-python",
   "name": "python",
   "nbconvert_exporter": "python",
   "pygments_lexer": "ipython3",
   "version": "3.11.5"
  }
 },
 "nbformat": 4,
 "nbformat_minor": 2
}
